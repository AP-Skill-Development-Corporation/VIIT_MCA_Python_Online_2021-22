{
 "cells": [
  {
   "cell_type": "code",
   "execution_count": 1,
   "metadata": {},
   "outputs": [
    {
     "data": {
      "text/plain": [
       "__main__.Student"
      ]
     },
     "execution_count": 1,
     "metadata": {},
     "output_type": "execute_result"
    }
   ],
   "source": [
    "class Student:\n",
    "    pass\n",
    "\n",
    "# className obj=new className  => jave\n",
    "s=Student() # object creation in python\n",
    "\n",
    "# s is a reference variable to pointing the object for access the variables and methods in class\n",
    "type(s)"
   ]
  },
  {
   "cell_type": "code",
   "execution_count": 2,
   "metadata": {
    "collapsed": true
   },
   "outputs": [
    {
     "name": "stdout",
     "output_type": "stream",
     "text": [
      "Help on Student in module __main__ object:\n",
      "\n",
      "class Student(builtins.object)\n",
      " |  Data descriptors defined here:\n",
      " |  \n",
      " |  __dict__\n",
      " |      dictionary for instance variables (if defined)\n",
      " |  \n",
      " |  __weakref__\n",
      " |      list of weak references to the object (if defined)\n",
      "\n"
     ]
    }
   ],
   "source": [
    "help(s)"
   ]
  },
  {
   "cell_type": "code",
   "execution_count": 3,
   "metadata": {},
   "outputs": [
    {
     "name": "stdout",
     "output_type": "stream",
     "text": [
      "welcome to python world\n"
     ]
    }
   ],
   "source": [
    "# create a method in class\n",
    "class Student:\n",
    "    def hello(self):\n",
    "        print(\"welcome to python world\")\n",
    "        \n",
    "s=Student()\n",
    "s.hello()       "
   ]
  },
  {
   "cell_type": "code",
   "execution_count": 4,
   "metadata": {},
   "outputs": [
    {
     "name": "stdout",
     "output_type": "stream",
     "text": [
      "welcome to python\n"
     ]
    }
   ],
   "source": [
    "# create a constructer for the class\n",
    "class Student:\n",
    "    def __init__(self):\n",
    "        print(\"welcome to python\")\n",
    "s=Student()"
   ]
  },
  {
   "cell_type": "code",
   "execution_count": 5,
   "metadata": {},
   "outputs": [
    {
     "name": "stdout",
     "output_type": "stream",
     "text": [
      "name: sai\n",
      "address: hyd\n"
     ]
    }
   ],
   "source": [
    "# create a variables\n",
    "class Student:\n",
    "    def __init__(self):\n",
    "        self.n=\"sai\"\n",
    "        self.add=\"hyd\"\n",
    "s=Student()\n",
    "print(\"name:\",s.n)\n",
    "print(\"address:\",s.add)"
   ]
  },
  {
   "cell_type": "code",
   "execution_count": 6,
   "metadata": {},
   "outputs": [
    {
     "name": "stdout",
     "output_type": "stream",
     "text": [
      "self memory address: 3067431530056\n",
      "name: sai\n",
      "address: hyd\n",
      "reference object memory address: 3067431530056\n"
     ]
    }
   ],
   "source": [
    "# create a variables\n",
    "class Student:\n",
    "    def __init__(self):\n",
    "        self.n=\"sai\"\n",
    "        self.add=\"hyd\"\n",
    "        print(\"self memory address:\",id(self))\n",
    "s=Student()\n",
    "print(\"name:\",s.n)\n",
    "print(\"address:\",s.add)\n",
    "print(\"reference object memory address:\",id(s))"
   ]
  },
  {
   "cell_type": "code",
   "execution_count": 9,
   "metadata": {},
   "outputs": [
    {
     "data": {
      "text/plain": [
       "'vinod'"
      ]
     },
     "execution_count": 9,
     "metadata": {},
     "output_type": "execute_result"
    }
   ],
   "source": [
    "class Student:\n",
    "    def __init__(s):\n",
    "        s.name=\"vinod\"\n",
    "ss=Student()\n",
    "ss.name"
   ]
  },
  {
   "cell_type": "code",
   "execution_count": 10,
   "metadata": {},
   "outputs": [
    {
     "name": "stdout",
     "output_type": "stream",
     "text": [
      "college name is: vignan\n",
      "college addres is: vizag\n"
     ]
    }
   ],
   "source": [
    "# parametrized constructer\n",
    "class College:\n",
    "    def __init__(self,cname,cadd):\n",
    "        self.cn=cname\n",
    "        self.cd=cadd\n",
    "c=College(\"vignan\",\"vizag\")\n",
    "print(\"college name is:\",c.cn)\n",
    "print(\"college addres is:\",c.cd)"
   ]
  },
  {
   "cell_type": "code",
   "execution_count": 11,
   "metadata": {},
   "outputs": [
    {
     "name": "stdout",
     "output_type": "stream",
     "text": [
      "college name is  vignan\n",
      "college addres is: visakhapatnam\n"
     ]
    }
   ],
   "source": [
    "class College:\n",
    "    def __init__(self,cname,cadd):\n",
    "        self.cn=cname\n",
    "        self.cd=cadd\n",
    "    def printmsg(self):\n",
    "        print(\"college name is \",self.cn)\n",
    "        print(\"college addres is:\",self.cd)\n",
    "\n",
    "c=College(\"vignan\",\"visakhapatnam\")\n",
    "c.printmsg()"
   ]
  },
  {
   "cell_type": "code",
   "execution_count": 12,
   "metadata": {},
   "outputs": [
    {
     "name": "stdout",
     "output_type": "stream",
     "text": [
      "college: vignan\n",
      "address: vizag\n"
     ]
    }
   ],
   "source": [
    "class College:\n",
    "    name=\"vignan\"\n",
    "    add=\"vizag\"\n",
    "    def printmsg(self):\n",
    "        print(\"college:\",self.name)\n",
    "        print(\"address:\",self.add)\n",
    "c=College()\n",
    "c.printmsg()"
   ]
  },
  {
   "cell_type": "code",
   "execution_count": 14,
   "metadata": {},
   "outputs": [
    {
     "name": "stdout",
     "output_type": "stream",
     "text": [
      "hello\n"
     ]
    }
   ],
   "source": [
    "class College:\n",
    "    def msg(self):\n",
    "        print(\"hello\")\n",
    "c=College()\n",
    "#c.msg()\n",
    "College.msg(c)"
   ]
  },
  {
   "cell_type": "code",
   "execution_count": 16,
   "metadata": {},
   "outputs": [
    {
     "name": "stdout",
     "output_type": "stream",
     "text": [
      "sai 25\n"
     ]
    },
    {
     "data": {
      "text/plain": [
       "'vignan'"
      ]
     },
     "execution_count": 16,
     "metadata": {},
     "output_type": "execute_result"
    }
   ],
   "source": [
    "class Student:\n",
    "    college=\"vignan\"\n",
    "    def __init__(self):\n",
    "        self.sname=\"sai\"\n",
    "        self.sage=25\n",
    "    def display(self):\n",
    "        print(self.sname,self.sage)\n",
    "s=Student()\n",
    "s.display()\n",
    "s.college"
   ]
  },
  {
   "cell_type": "code",
   "execution_count": 18,
   "metadata": {},
   "outputs": [
    {
     "name": "stdout",
     "output_type": "stream",
     "text": [
      "sai 25\n",
      "viit\n",
      "sairam 35\n"
     ]
    }
   ],
   "source": [
    "# update the class var, instance variables\n",
    "class Student:\n",
    "    college=\"vignan\"\n",
    "    def __init__(self):\n",
    "        self.sname=\"sai\"\n",
    "        self.sage=25\n",
    "    def display(self):\n",
    "        print(self.sname,self.sage)\n",
    "s=Student()\n",
    "s.display()\n",
    "s.college=\"viit\"\n",
    "print(s.college)\n",
    "\n",
    "s.sname=\"sairam\"\n",
    "s.sage=35\n",
    "\n",
    "print(s.sname,s.sage)"
   ]
  },
  {
   "cell_type": "code",
   "execution_count": 21,
   "metadata": {},
   "outputs": [
    {
     "name": "stdout",
     "output_type": "stream",
     "text": [
      "('rahul', 26)\n",
      "this is static method\n"
     ]
    }
   ],
   "source": [
    "# instance method\n",
    "# static method\n",
    "\n",
    "class Student:\n",
    "    def __init__(self,name,age):\n",
    "        self.n=name\n",
    "        self.a=age\n",
    "    # instance method\n",
    "    def show(self):\n",
    "        return self.n,self.a\n",
    "    @staticmethod\n",
    "    def message():\n",
    "        return \"this is static method\"\n",
    "s=Student(\"rahul\",26)\n",
    "print(s.show())\n",
    "print(s.message())     "
   ]
  },
  {
   "cell_type": "markdown",
   "metadata": {},
   "source": [
    "### Inharitance:\n",
    "access the one class variable and methods into another class\n",
    "\n",
    "* single inharitance\n",
    "* multi-level inharitance\n",
    "* multiple inharitance\n"
   ]
  },
  {
   "cell_type": "code",
   "execution_count": 26,
   "metadata": {},
   "outputs": [
    {
     "name": "stdout",
     "output_type": "stream",
     "text": [
      "this is one\n"
     ]
    }
   ],
   "source": [
    "# single inharitance\n",
    "class A:\n",
    "    def one(self):\n",
    "        print(\"this is one\")\n",
    "    def two(self):\n",
    "        print(\"this is two\")\n",
    "class B(A):\n",
    "    def three(self):\n",
    "        print(\"this is three\")\n",
    "    def four(self):\n",
    "        print(\"this is four\")\n",
    "obj=B()\n",
    "#obj.three()\n",
    "obj.one()"
   ]
  },
  {
   "cell_type": "code",
   "execution_count": 30,
   "metadata": {},
   "outputs": [
    {
     "name": "stdout",
     "output_type": "stream",
     "text": [
      "this is one\n",
      "this is five\n"
     ]
    }
   ],
   "source": [
    "# multi-level inharitance\n",
    "class A:\n",
    "    def one(self):\n",
    "        print(\"this is one\")\n",
    "    def two(self):\n",
    "        print(\"this is two\")\n",
    "class B(A):\n",
    "    def three(self):\n",
    "        print(\"this is three\")\n",
    "    def four(self):\n",
    "        print(\"this is four\")\n",
    "class C(B):\n",
    "    def five(self):\n",
    "        print(\"this is five\")\n",
    "    def six(self):\n",
    "        print(\"this is six\")\n",
    "obj=C()\n",
    "obj.one()\n",
    "obj.five()    "
   ]
  },
  {
   "cell_type": "code",
   "execution_count": 36,
   "metadata": {},
   "outputs": [
    {
     "name": "stdout",
     "output_type": "stream",
     "text": [
      "this is one from B\n"
     ]
    }
   ],
   "source": [
    "# multiple inharitance\n",
    "class A:\n",
    "    def one(self):\n",
    "        print(\"this is one from A\")\n",
    "    def two(self):\n",
    "        print(\"this is two\")\n",
    "class B:\n",
    "    def one(self):\n",
    "        print(\"this is one from B\")\n",
    "    def four(self):\n",
    "        print(\"this is four\")\n",
    "class C(B,A):\n",
    "    def five(self):\n",
    "        print('thi is five')\n",
    "    @staticmethod\n",
    "    def six():\n",
    "        print(\"this is six\")\n",
    "obj=C()\n",
    "obj.one()"
   ]
  },
  {
   "cell_type": "markdown",
   "metadata": {},
   "source": [
    "# Polymorphism\n",
    "* method overloading\n",
    "* method overriding\n"
   ]
  },
  {
   "cell_type": "code",
   "execution_count": 3,
   "metadata": {},
   "outputs": [
    {
     "data": {
      "text/plain": [
       "70"
      ]
     },
     "execution_count": 3,
     "metadata": {},
     "output_type": "execute_result"
    }
   ],
   "source": [
    "# method overloading:\n",
    "# same method with different parameters\n",
    "class Student:\n",
    "    def marks(self,m1=None,m2=None,m3=None):\n",
    "        t=0\n",
    "        if(m1!=None and m2!=None and m3!=None):\n",
    "            t=m1+m2+m3\n",
    "        else:\n",
    "            t=m1\n",
    "        return t\n",
    "s=Student()\n",
    "s.marks(10)\n",
    "s.marks(10,20)\n",
    "s.marks(10,20,40)"
   ]
  },
  {
   "cell_type": "code",
   "execution_count": 7,
   "metadata": {},
   "outputs": [
    {
     "name": "stdout",
     "output_type": "stream",
     "text": [
      "this is one from A\n",
      "this is one from B\n"
     ]
    }
   ],
   "source": [
    "# method overriding\n",
    "class A:\n",
    "    def one(self):\n",
    "        print(\"this is one from A\")\n",
    "class B(A):\n",
    "    def one(self):\n",
    "        super().one()\n",
    "        print(\"this is one from B\")\n",
    "obj=B()\n",
    "obj.one()"
   ]
  },
  {
   "cell_type": "markdown",
   "metadata": {},
   "source": [
    "### map"
   ]
  },
  {
   "cell_type": "code",
   "execution_count": 1,
   "metadata": {},
   "outputs": [
    {
     "name": "stdout",
     "output_type": "stream",
     "text": [
      "10 20 30\n",
      "[10, 20, 30]\n"
     ]
    }
   ],
   "source": [
    "a=list(map(int,input().split()))\n",
    "print(a)"
   ]
  },
  {
   "cell_type": "code",
   "execution_count": 2,
   "metadata": {},
   "outputs": [
    {
     "name": "stdout",
     "output_type": "stream",
     "text": [
      "100 200 300 450\n",
      "sum of items 1050\n"
     ]
    }
   ],
   "source": [
    "a=list(map(int,input().split()))\n",
    "print(\"sum of items\",sum(a))"
   ]
  },
  {
   "cell_type": "code",
   "execution_count": 3,
   "metadata": {},
   "outputs": [
    {
     "data": {
      "text/plain": [
       "[1, 4, 9, 16, 25]"
      ]
     },
     "execution_count": 3,
     "metadata": {},
     "output_type": "execute_result"
    }
   ],
   "source": [
    "# find the squared of list items using lambda\n",
    "l=[1,2,3,4,5]\n",
    "s=list(map(lambda x:x**2,l))\n",
    "s"
   ]
  },
  {
   "cell_type": "code",
   "execution_count": null,
   "metadata": {},
   "outputs": [],
   "source": []
  }
 ],
 "metadata": {
  "kernelspec": {
   "display_name": "Python 3",
   "language": "python",
   "name": "python3"
  },
  "language_info": {
   "codemirror_mode": {
    "name": "ipython",
    "version": 3
   },
   "file_extension": ".py",
   "mimetype": "text/x-python",
   "name": "python",
   "nbconvert_exporter": "python",
   "pygments_lexer": "ipython3",
   "version": "3.7.3"
  }
 },
 "nbformat": 4,
 "nbformat_minor": 2
}
