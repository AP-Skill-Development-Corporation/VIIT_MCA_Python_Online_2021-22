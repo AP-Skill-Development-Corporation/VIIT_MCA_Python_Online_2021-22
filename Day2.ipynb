{
 "cells": [
  {
   "cell_type": "markdown",
   "metadata": {},
   "source": [
    "# Keyword\n",
    "\n",
    "Keywrods are pre-defined names for doing specific tasks in programs"
   ]
  },
  {
   "cell_type": "code",
   "execution_count": 7,
   "metadata": {},
   "outputs": [
    {
     "data": {
      "text/plain": [
       "35"
      ]
     },
     "execution_count": 7,
     "metadata": {},
     "output_type": "execute_result"
    }
   ],
   "source": [
    "import keyword\n",
    "keyword.kwlist\n",
    "len(keyword.kwlist)"
   ]
  },
  {
   "cell_type": "code",
   "execution_count": 8,
   "metadata": {},
   "outputs": [
    {
     "data": {
      "text/plain": [
       "30"
      ]
     },
     "execution_count": 8,
     "metadata": {},
     "output_type": "execute_result"
    }
   ],
   "source": [
    "10+20"
   ]
  },
  {
   "cell_type": "code",
   "execution_count": 9,
   "metadata": {},
   "outputs": [
    {
     "data": {
      "text/plain": [
       "1210"
      ]
     },
     "execution_count": 9,
     "metadata": {},
     "output_type": "execute_result"
    }
   ],
   "source": [
    "10+20+30*40-20"
   ]
  },
  {
   "cell_type": "code",
   "execution_count": 10,
   "metadata": {},
   "outputs": [
    {
     "data": {
      "text/plain": [
       "'hello'"
      ]
     },
     "execution_count": 10,
     "metadata": {},
     "output_type": "execute_result"
    }
   ],
   "source": [
    "\"hello\""
   ]
  },
  {
   "cell_type": "code",
   "execution_count": 11,
   "metadata": {},
   "outputs": [
    {
     "name": "stdout",
     "output_type": "stream",
     "text": [
      "welcome to python classes\n"
     ]
    }
   ],
   "source": [
    "print(\"welcome to python classes\")"
   ]
  },
  {
   "cell_type": "code",
   "execution_count": 12,
   "metadata": {},
   "outputs": [
    {
     "data": {
      "text/plain": [
       "2600"
      ]
     },
     "execution_count": 12,
     "metadata": {},
     "output_type": "execute_result"
    }
   ],
   "source": [
    "100+200+300+500+1500"
   ]
  },
  {
   "cell_type": "code",
   "execution_count": 13,
   "metadata": {},
   "outputs": [
    {
     "data": {
      "text/plain": [
       "30"
      ]
     },
     "execution_count": 13,
     "metadata": {},
     "output_type": "execute_result"
    }
   ],
   "source": [
    "10+20"
   ]
  },
  {
   "cell_type": "markdown",
   "metadata": {},
   "source": [
    "# Variables:\n",
    "\n",
    "Variable is name for store the value in memory location\n",
    "\n",
    "# Identifiers for creating variable\n",
    "\n",
    "* keywords name not use as variable name\n",
    "* Special Character not allowed except underscore(_)\n",
    "* Variable name not start with digits\n",
    "* vaibale name does not allow the spaces\n"
   ]
  },
  {
   "cell_type": "code",
   "execution_count": 23,
   "metadata": {},
   "outputs": [],
   "source": [
    "# welcome=12\n",
    "# abc$=20\n",
    "# abc bbc=30\n",
    "#abc_bbc=30\n",
    "# 23hai=56\n",
    "# hai23=45\n",
    "# Hai=34\n",
    "# if=56"
   ]
  },
  {
   "cell_type": "code",
   "execution_count": 30,
   "metadata": {},
   "outputs": [
    {
     "name": "stdout",
     "output_type": "stream",
     "text": [
      "<class 'int'>\n",
      "<class 'float'>\n",
      "<class 'str'>\n",
      "<class 'complex'>\n",
      "<class 'bool'>\n"
     ]
    }
   ],
   "source": [
    "# assign values into variables\n",
    "a=10\n",
    "print(type(a))\n",
    "\n",
    "b=23.45\n",
    "print(type(b))\n",
    "\n",
    "c='welcome'\n",
    "print(type(c))\n",
    "\n",
    "d=2+30j\n",
    "print(type(d))\n",
    "\n",
    "e=True\n",
    "print(type(e))\n"
   ]
  },
  {
   "cell_type": "code",
   "execution_count": 33,
   "metadata": {},
   "outputs": [
    {
     "name": "stdout",
     "output_type": "stream",
     "text": [
      "before convert a data type is <class 'int'>\n",
      "<class 'str'>\n",
      "*********\n",
      "<class 'str'>\n",
      "<class 'int'>\n"
     ]
    }
   ],
   "source": [
    "# type conversions\n",
    "\n",
    "# convert from int to str\n",
    "a=20\n",
    "print(\"before convert a data type is\",type(a))\n",
    "\n",
    "s=str(a)\n",
    "print(type(s))\n",
    "\n",
    "print(\"*********\")\n",
    "# convert from str to int\n",
    "a='20'\n",
    "print(type(a))\n",
    "b=int(a)\n",
    "print(type(b))"
   ]
  },
  {
   "cell_type": "markdown",
   "metadata": {},
   "source": [
    "# Operations:\n",
    "-------\n",
    "\n",
    "* Arthemetic operations\n",
    "    * +,-,*,/,//,%,**\n",
    "* Logical Operators\n",
    "    * and,or,not\n",
    "* Bitwise Operators\n",
    "    * &,|,!\n",
    "* Assignment Operators\n",
    "    * =, +=,-=, *=, /=, //=, %=, **=\n",
    "* conditional operators\n",
    "    * <,>,<=,>=,==,!=\n",
    "* Special Operators\n",
    "    * in, not in and is is not\n",
    "\n"
   ]
  },
  {
   "cell_type": "code",
   "execution_count": 40,
   "metadata": {},
   "outputs": [
    {
     "name": "stdout",
     "output_type": "stream",
     "text": [
      "360\n",
      "-340\n",
      "3500\n",
      "0.02857142857142857\n",
      "0\n",
      "10\n",
      "8\n"
     ]
    }
   ],
   "source": [
    "a=10\n",
    "b=350\n",
    "print(a+b)\n",
    "print(a-b)\n",
    "print(a*b)\n",
    "print(a/b)\n",
    "print(a//b)\n",
    "print(a%b)\n",
    "\n",
    "b=2\n",
    "d=3\n",
    "print(b**d)  # 2**3 => 2*2*2"
   ]
  },
  {
   "cell_type": "code",
   "execution_count": 47,
   "metadata": {},
   "outputs": [
    {
     "name": "stdout",
     "output_type": "stream",
     "text": [
      "5\n",
      "10\n",
      "32\n",
      "22\n"
     ]
    }
   ],
   "source": [
    "a=3\n",
    "b=2\n",
    "\n",
    "a+=b  # a=a+b => a=5\n",
    "print(a)\n",
    "\n",
    "a*=b\n",
    "print(a)  # a=a*b a=5*2\n",
    "\n",
    "b+=30\n",
    "print(b)\n",
    "\n",
    "b-=a\n",
    "print(b)"
   ]
  },
  {
   "cell_type": "code",
   "execution_count": 54,
   "metadata": {},
   "outputs": [
    {
     "data": {
      "text/plain": [
       "True"
      ]
     },
     "execution_count": 54,
     "metadata": {},
     "output_type": "execute_result"
    }
   ],
   "source": [
    "# and => statements all true\n",
    "# or  => any one statement is true then condition is true\n",
    "# not => if true then false and if false then true\n",
    "\n",
    "True and True\n",
    "True and False\n",
    "(10==10) and (20>300)\n",
    "(10==10) or (20>300)\n",
    "True or True\n",
    "not True\n",
    "not False"
   ]
  },
  {
   "cell_type": "code",
   "execution_count": 55,
   "metadata": {},
   "outputs": [
    {
     "name": "stdout",
     "output_type": "stream",
     "text": [
      "0\n"
     ]
    }
   ],
   "source": [
    "a=10\n",
    "b=5\n",
    "c=a&b\n",
    "print(c)"
   ]
  },
  {
   "cell_type": "code",
   "execution_count": 56,
   "metadata": {},
   "outputs": [
    {
     "name": "stdout",
     "output_type": "stream",
     "text": [
      "4\n"
     ]
    }
   ],
   "source": [
    "a=14\n",
    "b=5\n",
    "c=a&b\n",
    "print(c)"
   ]
  },
  {
   "cell_type": "code",
   "execution_count": 57,
   "metadata": {},
   "outputs": [
    {
     "name": "stdout",
     "output_type": "stream",
     "text": [
      "15\n"
     ]
    }
   ],
   "source": [
    "a=14\n",
    "b=5\n",
    "c=a|b\n",
    "print(c)"
   ]
  },
  {
   "cell_type": "code",
   "execution_count": 67,
   "metadata": {},
   "outputs": [
    {
     "data": {
      "text/plain": [
       "True"
      ]
     },
     "execution_count": 67,
     "metadata": {},
     "output_type": "execute_result"
    }
   ],
   "source": [
    "10<20\n",
    "10>20\n",
    "20>10\n",
    "\n",
    "10<=23 and 10>5\n",
    "\n",
    "\"hello\"==\"Hello\"\n",
    "\n",
    "0==True\n",
    "\n",
    "10!=20"
   ]
  },
  {
   "cell_type": "code",
   "execution_count": 69,
   "metadata": {},
   "outputs": [
    {
     "data": {
      "text/plain": [
       "30"
      ]
     },
     "execution_count": 69,
     "metadata": {},
     "output_type": "execute_result"
    }
   ],
   "source": [
    "a=10\n",
    "b=int('20')\n",
    "a+b"
   ]
  },
  {
   "cell_type": "code",
   "execution_count": 70,
   "metadata": {},
   "outputs": [
    {
     "data": {
      "text/plain": [
       "55.0"
      ]
     },
     "execution_count": 70,
     "metadata": {},
     "output_type": "execute_result"
    }
   ],
   "source": [
    "a=55\n",
    "f=float(a)\n",
    "f"
   ]
  },
  {
   "cell_type": "code",
   "execution_count": null,
   "metadata": {},
   "outputs": [],
   "source": []
  }
 ],
 "metadata": {
  "kernelspec": {
   "display_name": "Python 3",
   "language": "python",
   "name": "python3"
  },
  "language_info": {
   "codemirror_mode": {
    "name": "ipython",
    "version": 3
   },
   "file_extension": ".py",
   "mimetype": "text/x-python",
   "name": "python",
   "nbconvert_exporter": "python",
   "pygments_lexer": "ipython3",
   "version": "3.7.3"
  }
 },
 "nbformat": 4,
 "nbformat_minor": 2
}
