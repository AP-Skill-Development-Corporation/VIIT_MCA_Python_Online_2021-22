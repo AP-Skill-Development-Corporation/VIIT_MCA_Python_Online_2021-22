{
 "cells": [
  {
   "cell_type": "markdown",
   "metadata": {},
   "source": [
    "### Functions:\n",
    "\n",
    "* Function is a block of statements. It perform specific programs\n",
    "* Which run when it is called\n",
    "\n",
    "### What are the uses of functions:\n",
    "\n",
    "* it reduces the program\n",
    "* code reusability\n",
    "* we can call anywhere in program\n",
    "\n",
    "### Types of functions:\n",
    "\n",
    "* Pre-defined functions\n",
    "    * In-built functions\n",
    "        * sum,min,max,sort,map, reduce, filter, lambda etc\n",
    "* user defined functions\n",
    "    * it is created by users/developers\n",
    "        * findsum, findavg etc\n",
    "\n",
    "### Syntax for create a function:\n",
    "* in python we have a def keyword for creating a function\n",
    "```\n",
    "def function_name(parameters):\n",
    "    statements-1\n",
    "    statements-2\n",
    "    -----------\n",
    "    -----------\n",
    "    return(optional)\n",
    "```\n",
    "\n",
    "\n",
    "### Create a user-defined function in 4 or 5 ways:\n",
    "\n",
    "* Functions with parameter without return value\n",
    "* Functions with parameter with return value\n",
    "* Functions without parameter without return value\n",
    "* Functions wihtout parameter with return value\n",
    "* Recursive functions\n",
    "    * Call a function name with in a function is called recursive"
   ]
  },
  {
   "cell_type": "markdown",
   "metadata": {},
   "source": [
    "### pre-defined functions:\n"
   ]
  },
  {
   "cell_type": "code",
   "execution_count": 4,
   "metadata": {},
   "outputs": [
    {
     "name": "stdout",
     "output_type": "stream",
     "text": [
      "sum of list items: 270\n",
      "min of list item is: 10\n",
      "max of list item is: 100\n"
     ]
    }
   ],
   "source": [
    "l=[10,20,30,40,70,100]\n",
    "print(\"sum of list items:\",sum(l))\n",
    "print(\"min of list item is:\",min(l))\n",
    "print(\"max of list item is:\",max(l))"
   ]
  },
  {
   "cell_type": "markdown",
   "metadata": {},
   "source": [
    "### user-defined functions"
   ]
  },
  {
   "cell_type": "code",
   "execution_count": 5,
   "metadata": {},
   "outputs": [],
   "source": [
    "# print a message using function\n",
    "def myname():\n",
    "    print(\"hello welcome to function concepts\")\n"
   ]
  },
  {
   "cell_type": "code",
   "execution_count": 6,
   "metadata": {},
   "outputs": [
    {
     "name": "stdout",
     "output_type": "stream",
     "text": [
      "hello welcome to function concepts\n"
     ]
    }
   ],
   "source": [
    "myname()"
   ]
  },
  {
   "cell_type": "code",
   "execution_count": 7,
   "metadata": {},
   "outputs": [],
   "source": [
    "# print the user name using function\n",
    "def myname(uname):\n",
    "    print(\"Hello welcome!\",uname)\n"
   ]
  },
  {
   "cell_type": "code",
   "execution_count": 9,
   "metadata": {},
   "outputs": [
    {
     "name": "stdout",
     "output_type": "stream",
     "text": [
      "Hello welcome! hemanth\n"
     ]
    }
   ],
   "source": [
    "myname(\"hemanth\")"
   ]
  },
  {
   "cell_type": "code",
   "execution_count": 10,
   "metadata": {},
   "outputs": [
    {
     "name": "stdout",
     "output_type": "stream",
     "text": [
      "enter your nameBabu\n",
      "your name is Babu\n"
     ]
    }
   ],
   "source": [
    "# print the user name using function\n",
    "def username(uname):\n",
    "    print(\"your name is {}\".format(uname))\n",
    "\n",
    "n=input(\"enter your name\")\n",
    "username(n)"
   ]
  },
  {
   "cell_type": "code",
   "execution_count": 14,
   "metadata": {},
   "outputs": [
    {
     "name": "stdout",
     "output_type": "stream",
     "text": [
      "sum of a and b value is 30\n",
      "sum of 10 and 20 value is 30\n",
      "sum of 20 and 10 is 30\n"
     ]
    }
   ],
   "source": [
    "# format\n",
    "a=10\n",
    "b=20\n",
    "c=a+b\n",
    "print(\"sum of a and b value is\",c)\n",
    "print(\"sum of\",a,\"and\",b,\"value is\",c)\n",
    "print(\"sum of {} and {} is {}\".format(b,a,c))\n",
    "\n",
    "# output => sum of 10 and 20 is 30"
   ]
  },
  {
   "cell_type": "code",
   "execution_count": 15,
   "metadata": {},
   "outputs": [
    {
     "name": "stdout",
     "output_type": "stream",
     "text": [
      "300\n"
     ]
    }
   ],
   "source": [
    "a=100\n",
    "b=200\n",
    "c=a+b\n",
    "print(c)"
   ]
  },
  {
   "cell_type": "code",
   "execution_count": 16,
   "metadata": {},
   "outputs": [
    {
     "name": "stdout",
     "output_type": "stream",
     "text": [
      "3000\n"
     ]
    }
   ],
   "source": [
    "a=1000\n",
    "b=2000\n",
    "c=a+b\n",
    "print(c)"
   ]
  },
  {
   "cell_type": "code",
   "execution_count": 17,
   "metadata": {},
   "outputs": [
    {
     "name": "stdout",
     "output_type": "stream",
     "text": [
      "enter a value 10\n",
      "enter b value 20\n",
      "sum of 10 and 20 is 30\n"
     ]
    }
   ],
   "source": [
    "# sum of two number is using functions:\n",
    "def sumab(a,b):\n",
    "    print(\"sum of {} and {} is {}\".format(a,b,a+b))\n",
    "a=int(input(\"enter a value \"))\n",
    "b=int(input(\"enter b value \"))\n",
    "sumab(a,b)"
   ]
  },
  {
   "cell_type": "code",
   "execution_count": 18,
   "metadata": {},
   "outputs": [
    {
     "name": "stdout",
     "output_type": "stream",
     "text": [
      "sum of 100 and 200 is 300\n"
     ]
    }
   ],
   "source": [
    "sumab(100,200)"
   ]
  },
  {
   "cell_type": "code",
   "execution_count": 19,
   "metadata": {},
   "outputs": [
    {
     "name": "stdout",
     "output_type": "stream",
     "text": [
      "sum of 1000 and 2000 is 3000\n"
     ]
    }
   ],
   "source": [
    "sumab(1000,2000)"
   ]
  },
  {
   "cell_type": "code",
   "execution_count": 20,
   "metadata": {},
   "outputs": [
    {
     "name": "stdout",
     "output_type": "stream",
     "text": [
      "10 20\n"
     ]
    }
   ],
   "source": [
    "# Function with arguments and without return value\n",
    "def check(a,b):\n",
    "    print(a,b)\n",
    "    \n",
    "check(10,20)"
   ]
  },
  {
   "cell_type": "code",
   "execution_count": 21,
   "metadata": {},
   "outputs": [
    {
     "data": {
      "text/plain": [
       "40"
      ]
     },
     "execution_count": 21,
     "metadata": {},
     "output_type": "execute_result"
    }
   ],
   "source": [
    "# Function with arguments and with return value\n",
    "def check2(a,b):\n",
    "    return a+b\n",
    "\n",
    "check2(10,30)   "
   ]
  },
  {
   "cell_type": "code",
   "execution_count": 23,
   "metadata": {},
   "outputs": [
    {
     "name": "stdout",
     "output_type": "stream",
     "text": [
      "40\n"
     ]
    }
   ],
   "source": [
    "def check2(a,b):\n",
    "    return a+b\n",
    "\n",
    "v=check2(10,30)\n",
    "print(v)"
   ]
  },
  {
   "cell_type": "code",
   "execution_count": 24,
   "metadata": {},
   "outputs": [
    {
     "name": "stdout",
     "output_type": "stream",
     "text": [
      "enter withdraw amout1000\n",
      "enter pin number 123\n"
     ]
    },
    {
     "data": {
      "text/plain": [
       "4000"
      ]
     },
     "execution_count": 24,
     "metadata": {},
     "output_type": "execute_result"
    }
   ],
   "source": [
    "# function without arguments with return value\n",
    "\n",
    "def check3():\n",
    "    pin=123\n",
    "    amount=5000\n",
    "    wd=int(input(\"enter withdraw amout\"))\n",
    "    p=int(input(\"enter pin number \"))\n",
    "    if(p==pin):\n",
    "        amount=amount-wd\n",
    "    else:\n",
    "        print(\"enter correct pin\")\n",
    "    return amount\n",
    "check3()"
   ]
  },
  {
   "cell_type": "code",
   "execution_count": 25,
   "metadata": {},
   "outputs": [
    {
     "name": "stdout",
     "output_type": "stream",
     "text": [
      "this is function wo arguments and wo return value\n"
     ]
    }
   ],
   "source": [
    "# function without arguments and without return value\n",
    "def check4():\n",
    "    print(\"this is function wo arguments and wo return value\")\n",
    "check4()"
   ]
  },
  {
   "cell_type": "code",
   "execution_count": 26,
   "metadata": {},
   "outputs": [
    {
     "name": "stdout",
     "output_type": "stream",
     "text": [
      "your name is sai\n",
      "your age is 24\n"
     ]
    }
   ],
   "source": [
    "def checkarg(name,age):\n",
    "    print(\"your name is\",name)\n",
    "    print(\"your age is\",age)\n",
    "checkarg(\"sai\",24)"
   ]
  },
  {
   "cell_type": "code",
   "execution_count": 27,
   "metadata": {},
   "outputs": [
    {
     "ename": "TypeError",
     "evalue": "checkarg() missing 1 required positional argument: 'age'",
     "output_type": "error",
     "traceback": [
      "\u001b[1;31m---------------------------------------------------------------------------\u001b[0m",
      "\u001b[1;31mTypeError\u001b[0m                                 Traceback (most recent call last)",
      "\u001b[1;32m<ipython-input-27-2f649aba846a>\u001b[0m in \u001b[0;36m<module>\u001b[1;34m\u001b[0m\n\u001b[0;32m      2\u001b[0m     \u001b[0mprint\u001b[0m\u001b[1;33m(\u001b[0m\u001b[1;34m\"your name is\"\u001b[0m\u001b[1;33m,\u001b[0m\u001b[0mname\u001b[0m\u001b[1;33m)\u001b[0m\u001b[1;33m\u001b[0m\u001b[1;33m\u001b[0m\u001b[0m\n\u001b[0;32m      3\u001b[0m     \u001b[0mprint\u001b[0m\u001b[1;33m(\u001b[0m\u001b[1;34m\"your age is\"\u001b[0m\u001b[1;33m,\u001b[0m\u001b[0mage\u001b[0m\u001b[1;33m)\u001b[0m\u001b[1;33m\u001b[0m\u001b[1;33m\u001b[0m\u001b[0m\n\u001b[1;32m----> 4\u001b[1;33m \u001b[0mcheckarg\u001b[0m\u001b[1;33m(\u001b[0m\u001b[1;34m\"sai\"\u001b[0m\u001b[1;33m)\u001b[0m\u001b[1;33m\u001b[0m\u001b[1;33m\u001b[0m\u001b[0m\n\u001b[0m",
      "\u001b[1;31mTypeError\u001b[0m: checkarg() missing 1 required positional argument: 'age'"
     ]
    }
   ],
   "source": [
    "def checkarg(name,age):\n",
    "    print(\"your name is\",name)\n",
    "    print(\"your age is\",age)\n",
    "checkarg(\"sai\")"
   ]
  },
  {
   "cell_type": "code",
   "execution_count": 28,
   "metadata": {},
   "outputs": [
    {
     "ename": "TypeError",
     "evalue": "checkarg() missing 2 required positional arguments: 'name' and 'age'",
     "output_type": "error",
     "traceback": [
      "\u001b[1;31m---------------------------------------------------------------------------\u001b[0m",
      "\u001b[1;31mTypeError\u001b[0m                                 Traceback (most recent call last)",
      "\u001b[1;32m<ipython-input-28-98bd74603431>\u001b[0m in \u001b[0;36m<module>\u001b[1;34m\u001b[0m\n\u001b[0;32m      2\u001b[0m     \u001b[0mprint\u001b[0m\u001b[1;33m(\u001b[0m\u001b[1;34m\"your name is\"\u001b[0m\u001b[1;33m,\u001b[0m\u001b[0mname\u001b[0m\u001b[1;33m)\u001b[0m\u001b[1;33m\u001b[0m\u001b[1;33m\u001b[0m\u001b[0m\n\u001b[0;32m      3\u001b[0m     \u001b[0mprint\u001b[0m\u001b[1;33m(\u001b[0m\u001b[1;34m\"your age is\"\u001b[0m\u001b[1;33m,\u001b[0m\u001b[0mage\u001b[0m\u001b[1;33m)\u001b[0m\u001b[1;33m\u001b[0m\u001b[1;33m\u001b[0m\u001b[0m\n\u001b[1;32m----> 4\u001b[1;33m \u001b[0mcheckarg\u001b[0m\u001b[1;33m(\u001b[0m\u001b[1;33m)\u001b[0m\u001b[1;33m\u001b[0m\u001b[1;33m\u001b[0m\u001b[0m\n\u001b[0m",
      "\u001b[1;31mTypeError\u001b[0m: checkarg() missing 2 required positional arguments: 'name' and 'age'"
     ]
    }
   ],
   "source": [
    "def checkarg(name,age):\n",
    "    print(\"your name is\",name)\n",
    "    print(\"your age is\",age)\n",
    "checkarg()"
   ]
  },
  {
   "cell_type": "code",
   "execution_count": 29,
   "metadata": {},
   "outputs": [
    {
     "name": "stdout",
     "output_type": "stream",
     "text": [
      "your name is gopi\n",
      "your age is 20\n"
     ]
    }
   ],
   "source": [
    "def checkarg(name,age=20):\n",
    "    print(\"your name is\",name)\n",
    "    print(\"your age is\",age)\n",
    "checkarg(\"gopi\")"
   ]
  },
  {
   "cell_type": "code",
   "execution_count": 30,
   "metadata": {},
   "outputs": [
    {
     "name": "stdout",
     "output_type": "stream",
     "text": [
      "your name is gopi\n",
      "your age is 24\n"
     ]
    }
   ],
   "source": [
    "def checkarg(name,age=20):\n",
    "    print(\"your name is\",name)\n",
    "    print(\"your age is\",age)\n",
    "checkarg(\"gopi\",24)"
   ]
  },
  {
   "cell_type": "code",
   "execution_count": 31,
   "metadata": {},
   "outputs": [
    {
     "name": "stdout",
     "output_type": "stream",
     "text": [
      "your name is rajesh\n",
      "your age is 20\n"
     ]
    }
   ],
   "source": [
    "def checkarg(name=\"rajesh\",age=20):\n",
    "    print(\"your name is\",name)\n",
    "    print(\"your age is\",age)\n",
    "checkarg()"
   ]
  },
  {
   "cell_type": "code",
   "execution_count": 32,
   "metadata": {},
   "outputs": [
    {
     "name": "stdout",
     "output_type": "stream",
     "text": [
      "your name is honey\n",
      "your age is  25\n",
      "your marks are 98\n"
     ]
    }
   ],
   "source": [
    "def checkarg(name,age,marks):\n",
    "    print(\"your name is\",name)\n",
    "    print(\"your age is \",age)\n",
    "    print(\"your marks are\",marks)\n",
    "checkarg(\"honey\",25,98)"
   ]
  },
  {
   "cell_type": "code",
   "execution_count": 34,
   "metadata": {},
   "outputs": [
    {
     "name": "stdout",
     "output_type": "stream",
     "text": [
      "honey raju hemanth ravi 30 "
     ]
    }
   ],
   "source": [
    "def checkarg(*names):\n",
    "    for i in names:\n",
    "        print(i,end=\" \")\n",
    "checkarg(\"honey\",\"raju\",\"hemanth\",\"ravi\",30)"
   ]
  },
  {
   "cell_type": "code",
   "execution_count": 35,
   "metadata": {},
   "outputs": [],
   "source": [
    "# helloz  => ifmmpa"
   ]
  },
  {
   "cell_type": "code",
   "execution_count": 38,
   "metadata": {},
   "outputs": [
    {
     "name": "stdout",
     "output_type": "stream",
     "text": [
      "enter a number 9\n",
      "not a prime\n"
     ]
    }
   ],
   "source": [
    "# print the given number is prime or not using functions\n",
    "def checking(n):                 #n=5\n",
    "    c=0\n",
    "    for i in range(1,n+1):      #1,2,3,4,5\n",
    "        if(n%i==0):             #5%5==0\n",
    "            c=c+1               #c=2\n",
    "    if(c==2):\n",
    "        print(\"prime\")\n",
    "    else:\n",
    "        print(\"not a prime\")\n",
    "num=int(input(\"enter a number \"))\n",
    "checking(num)"
   ]
  },
  {
   "cell_type": "markdown",
   "metadata": {},
   "source": [
    "### lambda:\n",
    "* lambda ia annonimus function\n",
    "\n"
   ]
  },
  {
   "cell_type": "code",
   "execution_count": 39,
   "metadata": {},
   "outputs": [
    {
     "name": "stdout",
     "output_type": "stream",
     "text": [
      "10\n"
     ]
    }
   ],
   "source": [
    "# print the number\n",
    "def number(n):\n",
    "    print(n)\n",
    "number(10)"
   ]
  },
  {
   "cell_type": "code",
   "execution_count": 40,
   "metadata": {},
   "outputs": [
    {
     "data": {
      "text/plain": [
       "10"
      ]
     },
     "execution_count": 40,
     "metadata": {},
     "output_type": "execute_result"
    }
   ],
   "source": [
    "# print the number using lambda\n",
    "n=lambda n:n\n",
    "n(10)"
   ]
  },
  {
   "cell_type": "code",
   "execution_count": 41,
   "metadata": {},
   "outputs": [
    {
     "data": {
      "text/plain": [
       "30"
      ]
     },
     "execution_count": 41,
     "metadata": {},
     "output_type": "execute_result"
    }
   ],
   "source": [
    "# print the two numbers using lambda\n",
    "n=lambda a,b:a+b\n",
    "n(10,20)"
   ]
  },
  {
   "cell_type": "code",
   "execution_count": 43,
   "metadata": {},
   "outputs": [
    {
     "data": {
      "text/plain": [
       "24"
      ]
     },
     "execution_count": 43,
     "metadata": {},
     "output_type": "execute_result"
    }
   ],
   "source": [
    "# find the factorial of a given number is functions\n",
    "\n",
    "def checkfact(n):\n",
    "    s=1\n",
    "    for i in range(1,n+1):     # 1,2,3,4\n",
    "        s=s*i                  #s=1*2*3*4\n",
    "    return s\n",
    "checkfact(4)"
   ]
  },
  {
   "cell_type": "code",
   "execution_count": 44,
   "metadata": {},
   "outputs": [],
   "source": [
    "# print the prime factors of a given number\n",
    "# ex: 9 => 1,3,9 => 3\n",
    "# ex: 14 => 1,2,7,14 => 2,7"
   ]
  },
  {
   "cell_type": "markdown",
   "metadata": {},
   "source": [
    "### Given a string name, e.g. \"Bob\", return a greeting of the form \"Hello Bob!\".\n",
    "\n",
    "```\n",
    "hello_name('Bob') → 'Hello Bob!'\n",
    "hello_name('Alice') → 'Hello Alice!'\n",
    "hello_name('X') → 'Hello X!'\n",
    "```"
   ]
  },
  {
   "cell_type": "code",
   "execution_count": 45,
   "metadata": {},
   "outputs": [
    {
     "name": "stdout",
     "output_type": "stream",
     "text": [
      "hello Bob !!!!\n"
     ]
    }
   ],
   "source": [
    "def hello_name(name):\n",
    "    print(\"hello {} !!!!\".format(name))\n",
    "hello_name(\"Bob\") "
   ]
  },
  {
   "cell_type": "markdown",
   "metadata": {},
   "source": [
    "```\n",
    "2)Given two strings, a and b, return the result of putting them together in the order abba, e.g. \"Hi\" and \"Bye\" returns \"HiByeByeHi\".\n",
    "\n",
    "\n",
    "make_abba('Hi', 'Bye') → 'HiByeByeHi'\n",
    "make_abba('Yo', 'Alice') → 'YoAliceAliceYo'\n",
    "make_abba('What', 'Up') → 'WhatUpUpWhat'\n",
    "```"
   ]
  },
  {
   "cell_type": "code",
   "execution_count": 47,
   "metadata": {},
   "outputs": [
    {
     "data": {
      "text/plain": [
       "'HiByeByeHi'"
      ]
     },
     "execution_count": 47,
     "metadata": {},
     "output_type": "execute_result"
    }
   ],
   "source": [
    "def make_abba(a,b):\n",
    "    return a+b+b+a\n",
    "make_abba('Hi', 'Bye')"
   ]
  },
  {
   "cell_type": "code",
   "execution_count": 46,
   "metadata": {},
   "outputs": [
    {
     "name": "stdout",
     "output_type": "stream",
     "text": [
      "hello bob!\n"
     ]
    }
   ],
   "source": [
    "def name(name1):\n",
    "\tprint(\"hello %s!\"%(name1))\n",
    "name('bob')"
   ]
  },
  {
   "cell_type": "code",
   "execution_count": null,
   "metadata": {},
   "outputs": [],
   "source": []
  }
 ],
 "metadata": {
  "kernelspec": {
   "display_name": "Python 3",
   "language": "python",
   "name": "python3"
  },
  "language_info": {
   "codemirror_mode": {
    "name": "ipython",
    "version": 3
   },
   "file_extension": ".py",
   "mimetype": "text/x-python",
   "name": "python",
   "nbconvert_exporter": "python",
   "pygments_lexer": "ipython3",
   "version": "3.7.3"
  }
 },
 "nbformat": 4,
 "nbformat_minor": 2
}
