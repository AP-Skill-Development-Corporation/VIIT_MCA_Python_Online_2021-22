{
 "cells": [
  {
   "cell_type": "code",
   "execution_count": 1,
   "metadata": {},
   "outputs": [
    {
     "name": "stdout",
     "output_type": "stream",
     "text": [
      "20 10\n"
     ]
    }
   ],
   "source": [
    "# swap the two numbers using third variable\n",
    "# ex: a=10; b=20 => a=20 ; b=10\n",
    "\n",
    "a=10\n",
    "b=20\n",
    "\n",
    "temp=a\n",
    "a=b\n",
    "b=temp\n",
    "\n",
    "print(a,b)"
   ]
  },
  {
   "cell_type": "code",
   "execution_count": 2,
   "metadata": {},
   "outputs": [
    {
     "name": "stdout",
     "output_type": "stream",
     "text": [
      "20 10\n"
     ]
    }
   ],
   "source": [
    "# swap the two numbers without using third variable\n",
    "a=10\n",
    "b=20\n",
    "\n",
    "a=a+b     # a=10+20 => a=30\n",
    "b=a-b     # b=30-20 => b=10\n",
    "a=a-b     # a=30-10 => a=20\n",
    "\n",
    "print(a,b)"
   ]
  },
  {
   "cell_type": "code",
   "execution_count": 5,
   "metadata": {},
   "outputs": [
    {
     "name": "stdout",
     "output_type": "stream",
     "text": [
      "Enter student marks 90\n",
      "first class with dist\n"
     ]
    }
   ],
   "source": [
    "# swap the two numbers without using arthamatic operations and thid variable\n",
    "# print the student grade\n",
    "# 80-100 => first class with dist\n",
    "# 60-80 => second\n",
    "# 45-60 => third\n",
    "# 45<  => failed\n",
    "\n",
    "marks=int(input(\"Enter student marks \"))\n",
    "if(marks>=80 and marks<=100):\n",
    "    print(\"first class with dist\")\n",
    "elif(marks>=60 and marks<80):\n",
    "    print(\"second class\")\n",
    "elif(marks>=45 and marks<60):\n",
    "    print(\"third\")\n",
    "else:\n",
    "    print(\"failed! please try again...\")"
   ]
  },
  {
   "cell_type": "code",
   "execution_count": 10,
   "metadata": {},
   "outputs": [
    {
     "name": "stdout",
     "output_type": "stream",
     "text": [
      "count of even numbers from 1 to 10 is  5\n"
     ]
    }
   ],
   "source": [
    "# find the how many even numbers from 1 to 10\n",
    "c=0\n",
    "for i in range(1,11):\n",
    "    if(i%2==0):\n",
    "        c=c+1\n",
    "        #print(i,end=\" \")\n",
    "print(\"count of even numbers from 1 to 10 is \",c)"
   ]
  },
  {
   "cell_type": "code",
   "execution_count": 12,
   "metadata": {},
   "outputs": [
    {
     "name": "stdout",
     "output_type": "stream",
     "text": [
      "enter a number 4\n",
      "4 * 1 = 4\n",
      "4 * 2 = 8\n",
      "4 * 3 = 12\n",
      "4 * 4 = 16\n",
      "4 * 5 = 20\n",
      "4 * 6 = 24\n",
      "4 * 7 = 28\n",
      "4 * 8 = 32\n",
      "4 * 9 = 36\n",
      "4 * 10 = 40\n"
     ]
    }
   ],
   "source": [
    "# print the multiplication table of given number\n",
    "n=int(input(\"enter a number \"))\n",
    "for i in range(1,11):\n",
    "    print(n,\"*\",i,\"=\",n*i)"
   ]
  },
  {
   "cell_type": "code",
   "execution_count": 14,
   "metadata": {},
   "outputs": [
    {
     "name": "stdout",
     "output_type": "stream",
     "text": [
      "enter a number5\n",
      "factorial of a given number is  120\n"
     ]
    }
   ],
   "source": [
    "# print the factorial of a given number\n",
    "#ex; 5 => 5*4*3*2*1 =>120\n",
    "n=int(input(\"enter a number\"))\n",
    "s=1\n",
    "for i in range(1,n+1):  #1,2,3,4,5\n",
    "    s=s*i               # s=24*5\n",
    "print(\"factorial of a given number is \",s)"
   ]
  },
  {
   "cell_type": "code",
   "execution_count": 15,
   "metadata": {},
   "outputs": [
    {
     "name": "stdout",
     "output_type": "stream",
     "text": [
      "enter a number 6\n",
      "1 2 3 6 "
     ]
    }
   ],
   "source": [
    "# find the factors of a given number\n",
    "# ex:  6 => 1,2,3,6\n",
    "n=int(input(\"enter a number \"))\n",
    "for i in range(1,n+1):   # 1,2,3,4,5,6\n",
    "    if(n%i==0):          # 6%6==0 => 1,2,3,6\n",
    "        print(i,end=\" \")"
   ]
  },
  {
   "cell_type": "code",
   "execution_count": 16,
   "metadata": {},
   "outputs": [
    {
     "name": "stdout",
     "output_type": "stream",
     "text": [
      "enter a number 6\n",
      "sum of factors of a given number is  12\n"
     ]
    }
   ],
   "source": [
    "# find the sum of factors of the given number\n",
    "# 6 => 1,2,3,6 => 12\n",
    "n=int(input(\"enter a number \"))\n",
    "s=0\n",
    "for i in range(1,n+1):   # 1,2,3,4,5,6\n",
    "    if(n%i==0):          # 6%6==0 => 1,2,3,6\n",
    "        #print(i,end=\" \")\n",
    "        s=s+i\n",
    "print(\"sum of factors of a given number is \",s)"
   ]
  },
  {
   "cell_type": "code",
   "execution_count": 19,
   "metadata": {},
   "outputs": [
    {
     "name": "stdout",
     "output_type": "stream",
     "text": [
      "enter a number 5\n",
      "given number is prime\n"
     ]
    }
   ],
   "source": [
    "# print the given number is prime or not\n",
    "# prime => number is divisible by one and itself is known as prime\n",
    "n=int(input(\"enter a number \"))\n",
    "c=0\n",
    "for i in range(2,n):  # 2,3,4\n",
    "    if(n%i==0):\n",
    "        c=c+1\n",
    "if(c==0):\n",
    "    print(\"given number is prime\")\n",
    "else:\n",
    "    print(\"given number is not prime\")"
   ]
  },
  {
   "cell_type": "code",
   "execution_count": 21,
   "metadata": {},
   "outputs": [
    {
     "name": "stdout",
     "output_type": "stream",
     "text": [
      "enter first number 1\n",
      "enter second number 100\n",
      "enter number is above one\n",
      "2 3 5 7 11 13 17 19 23 29 31 37 41 43 47 53 59 61 67 71 73 79 83 89 97 "
     ]
    }
   ],
   "source": [
    "# print the prime numbers in between range\n",
    "first=int(input(\"enter first number \"))\n",
    "second=int(input(\"enter second number \"))\n",
    "for i in range(first,second+1):\n",
    "    if(i>1):\n",
    "        c=0\n",
    "        for j in range(2,i):\n",
    "            if(i%j==0):\n",
    "                c=c+1\n",
    "        if(c==0):\n",
    "            print(i,end=\" \")\n",
    "    else:\n",
    "        print(\"enter number is above one\")"
   ]
  },
  {
   "cell_type": "code",
   "execution_count": 22,
   "metadata": {},
   "outputs": [
    {
     "name": "stdout",
     "output_type": "stream",
     "text": [
      "enter a number 123\n",
      "sum of digits of number is 6\n"
     ]
    }
   ],
   "source": [
    "# print the sum of digits:\n",
    "# ex: 123 => 1+2+3 =>6\n",
    "n=int(input(\"enter a number \"))\n",
    "s=0\n",
    "while(n>0):    # 0>0\n",
    "    r=n%10     #r=1%10 => 1\n",
    "    s=s+r      # s=6\n",
    "    n=n//10    # n=1//10 => 0\n",
    "print(\"sum of digits of number is\",s)"
   ]
  },
  {
   "cell_type": "code",
   "execution_count": 24,
   "metadata": {},
   "outputs": [
    {
     "name": "stdout",
     "output_type": "stream",
     "text": [
      "enter a number 131\n",
      "palindrome\n"
     ]
    }
   ],
   "source": [
    "# print the given number is palindrome or not\n",
    "# palindrome => reverse of a number is equal to the given number is called palindrome\n",
    "# ex: 121 => 121\n",
    "n=int(input(\"enter a number \"))\n",
    "temp=n\n",
    "s=0\n",
    "while(n>0):    # 0>0\n",
    "    r=n%10     #r=1%10 => 1\n",
    "    s=s*10+r      # s=12*10+1 => 120+1 => 121\n",
    "    n=n//10    # n=1//10 => 0\n",
    "if(s==temp):\n",
    "    print(\"palindrome\")\n",
    "else:\n",
    "    print(\"not palindrome\")\n"
   ]
  },
  {
   "cell_type": "code",
   "execution_count": null,
   "metadata": {},
   "outputs": [],
   "source": [
    "# 12345 => 15 => 6\n",
    "# hello => oellh\n",
    "# hello welcome => ifmmp xfmdpnf\n",
    "# hello123 welcome! => iffmp123 xfmdpnf!"
   ]
  }
 ],
 "metadata": {
  "kernelspec": {
   "display_name": "Python 3",
   "language": "python",
   "name": "python3"
  },
  "language_info": {
   "codemirror_mode": {
    "name": "ipython",
    "version": 3
   },
   "file_extension": ".py",
   "mimetype": "text/x-python",
   "name": "python",
   "nbconvert_exporter": "python",
   "pygments_lexer": "ipython3",
   "version": "3.7.3"
  }
 },
 "nbformat": 4,
 "nbformat_minor": 2
}
